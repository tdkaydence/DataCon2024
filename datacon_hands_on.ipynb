{
  "nbformat": 4,
  "nbformat_minor": 0,
  "metadata": {
    "colab": {
      "provenance": []
    },
    "kernelspec": {
      "name": "python3",
      "display_name": "Python 3"
    },
    "language_info": {
      "name": "python"
    }
  },
  "cells": [
    {
      "cell_type": "markdown",
      "source": [
        "# **Setup script environment**\n",
        "Import external libraries:"
      ],
      "metadata": {
        "id": "sNodrpm-a2Z6"
      }
    },
    {
      "cell_type": "code",
      "execution_count": null,
      "metadata": {
        "id": "hByom8aEes-T"
      },
      "outputs": [],
      "source": [
        "import pandas as pd # imports the 'pandas' library for use in this script and assigns it the nickname 'pd'"
      ]
    },
    {
      "cell_type": "markdown",
      "source": [
        "*This block is only needed when using Google Colab to read files in google drive.*\n",
        "\n",
        "*Not required if running script on other platforms.*"
      ],
      "metadata": {
        "id": "AMwyuS6fcDi4"
      }
    },
    {
      "cell_type": "code",
      "source": [
        "# only needed to read files from Google Drive for Google Colab\n",
        "from google.colab import drive\n",
        "drive.mount('/content/gdrive')"
      ],
      "metadata": {
        "id": "tYhPoMnWhUoH"
      },
      "execution_count": null,
      "outputs": []
    },
    {
      "cell_type": "markdown",
      "source": [
        "# **Using pandas**\n",
        "Load data from file:"
      ],
      "metadata": {
        "id": "g-pdiAV1a0kk"
      }
    },
    {
      "cell_type": "code",
      "source": [
        "df = pd.read_csv('/content/gdrive/MyDrive/datacon_hands_on/sales.csv') # loading the data from sales.csv into the DataFrame object\n",
        "# df = pd.read_csv('/PATH/TO/sales.csv') # use this instead if working offline\n",
        "df.index = df.index + 1"
      ],
      "metadata": {
        "id": "La4aBE_LfJMy"
      },
      "execution_count": null,
      "outputs": []
    },
    {
      "cell_type": "markdown",
      "source": [
        "Some DataFrame functions built into pandas:"
      ],
      "metadata": {
        "id": "F2k83sMuciqg"
      }
    },
    {
      "cell_type": "code",
      "source": [
        "df.head()"
      ],
      "metadata": {
        "id": "MAryoTdcg4D1"
      },
      "execution_count": null,
      "outputs": []
    },
    {
      "cell_type": "code",
      "source": [
        "l = len(df)\n",
        "print(l)"
      ],
      "metadata": {
        "id": "SZMpC8ZF-Zi1"
      },
      "execution_count": null,
      "outputs": []
    },
    {
      "cell_type": "code",
      "source": [
        "df['SalesID'] # get SalesID column"
      ],
      "metadata": {
        "id": "C_uJH_GO8GaV"
      },
      "execution_count": null,
      "outputs": []
    },
    {
      "cell_type": "code",
      "source": [
        "df.loc[1] # get 1st row"
      ],
      "metadata": {
        "id": "vUk4aSfc41Pi"
      },
      "execution_count": null,
      "outputs": []
    },
    {
      "cell_type": "code",
      "source": [
        "df.loc[1]['SalesID'] # get 1st row of SalesID column"
      ],
      "metadata": {
        "id": "GNbTo-ipZ1sz"
      },
      "execution_count": null,
      "outputs": []
    },
    {
      "cell_type": "code",
      "source": [
        "column_names = list(df)\n",
        "print(column_names)"
      ],
      "metadata": {
        "id": "4AFmnEDnsaSe"
      },
      "execution_count": null,
      "outputs": []
    },
    {
      "cell_type": "markdown",
      "source": [
        "# **Data quality check functions**\n",
        "Each function checks the values in 1 row against 1 validation rule:"
      ],
      "metadata": {
        "id": "Cz7Qk3xecsfk"
      }
    },
    {
      "cell_type": "code",
      "source": [
        "def check_cannot_be_blank (df, column_name): # returns true if column_name contains no blanks\n",
        "  column_values = df[column_name]\n",
        "  for column_value in column_values:\n",
        "    if pd.isna(column_value): # pd.isna(column_value) returns False if column_value is blank\n",
        "      return False\n",
        "  return True"
      ],
      "metadata": {
        "id": "vKOyNJU_pAe5"
      },
      "execution_count": null,
      "outputs": []
    },
    {
      "cell_type": "code",
      "source": [
        "print(check_cannot_be_blank(df, 'SalesID'))"
      ],
      "metadata": {
        "id": "dQ-rG-qXqkKR"
      },
      "execution_count": null,
      "outputs": []
    },
    {
      "cell_type": "markdown",
      "source": [
        "Use a *for* loop to check all columns:"
      ],
      "metadata": {
        "id": "z7RdDlYmdW6-"
      }
    },
    {
      "cell_type": "code",
      "source": [
        "for column_name in column_names:\n",
        "  print(check_cannot_be_blank(df, column_name))"
      ],
      "metadata": {
        "id": "9RAhBLOuuFNZ"
      },
      "execution_count": null,
      "outputs": []
    },
    {
      "cell_type": "markdown",
      "source": [
        "Define all the individual validation rule check functions:"
      ],
      "metadata": {
        "id": "Xe8dUYh_djb5"
      }
    },
    {
      "cell_type": "code",
      "source": [
        "from collections import defaultdict\n",
        "import math\n",
        "\n",
        "def check_unique_values (df, column_name): # returns true if all values in column_name are unique (no duplicates)\n",
        "  value_occurence_count = defaultdict(int) # a defaultdict is a dictionary with a default value - defaultdict(int) defaults to 0 for keys not yet added to the dictionary\n",
        "  for index in range(1,l + 1): # remember l is len(df)\n",
        "    value = df.loc[index][column_name]\n",
        "    value_occurence_count[value] += 1\n",
        "    if value_occurence_count[value] > 1:\n",
        "      return False\n",
        "  return True\n",
        "\n",
        "def check_type (df, column_name, type_specified): # returns true if all values in column_name are integers\n",
        "  for value in df[column_name]:\n",
        "    if not isinstance(value, type_specified):\n",
        "      return False\n",
        "  return True\n",
        "\n",
        "def check_within_numerical_range (df, column_name, lower_bound = - math.inf, upper_bound = math.inf): # returns true if all values in column_name are between lower_bound and upper_bound exclusive\n",
        "  for value in df[column_name]:\n",
        "    if value >= upper_bound or value <= lower_bound: # note that here we are using numerical operators -\n",
        "      return False\n",
        "  return True\n",
        "\n",
        "def is_intable (s):\n",
        "  try:\n",
        "    int(s)\n",
        "  except:\n",
        "    return False\n",
        "  return True\n",
        "\n",
        "def is_alphabetical (s):\n",
        "  for char in s:\n",
        "    if ord(char) not in range(97,123) and ord(char) not in range(65,91):\n",
        "      return False\n",
        "  return True\n",
        "\n",
        "def check_data_format (df, column_name, character_type, pieces_max_lengths): # returns true if all values in column_name comply with data format specified\n",
        "  column_values = df[column_name]\n",
        "  match character_type:\n",
        "    case 'N':\n",
        "      if len(pieces_max_lengths) == 2: # data format is N(p,q)\n",
        "        for value in df[column_name]:\n",
        "          val_str = str(value)\n",
        "          val_str_pieces = val_str.split('.')\n",
        "          complies = is_intable(val_str_pieces[0]) and is_intable(val_str_pieces[1]) and len(val_str_pieces[0]) <= pieces_max_lengths[0] and len(val_str_pieces[1]) <= pieces_max_lengths[1]\n",
        "          if not complies:\n",
        "            return False\n",
        "        return True\n",
        "      elif len(pieces_max_lengths) == 1: # data format is N(p)\n",
        "        for value in df[column_name]:\n",
        "          complies = is_intable(value) and len(str(value)) <= pieces_max_lengths[0]\n",
        "          if not complies:\n",
        "            return False\n",
        "        return True\n",
        "    case 'A': # data format is A(p)\n",
        "      for value in df[column_name]:\n",
        "        complies = is_alphabetical(value) and len(value) <= pieces_max_lengths[0]\n",
        "        if not complies:\n",
        "          return False\n",
        "      return True\n",
        "    case 'X': # data format is X(p)\n",
        "      for value in df[column_name]:\n",
        "        complies = len(value) <= pieces_max_lengths[0]\n",
        "        if not complies:\n",
        "          return False\n",
        "      return True\n",
        "\n",
        "def check_date_format_dmyyyy (df, column_name): # returns true if all values in column_name follow the date format d/m/yyyy\n",
        "  for value in df[column_name]:\n",
        "    value_split = value.split('/') # split each value into 3 parts to assess individually\n",
        "    if int(value_split[0]) < 0 or int(value_split[0]) > 31: # reject if date is not int or date < 0 or date > 31\n",
        "      return False\n",
        "    if int(value_split[1]) < 0 or int(value_split[1]) > 12: # reject if month is not int or month < 0 or month > 12\n",
        "      return False\n",
        "    if len(value_split[2]) != 4 or not is_intable(value_split[2]): # reject if year is not int or year is not 4 digits\n",
        "      return False\n",
        "  return True\n"
      ],
      "metadata": {
        "id": "3s0X66nm9hq6"
      },
      "execution_count": null,
      "outputs": []
    },
    {
      "cell_type": "markdown",
      "source": [
        "Run the defined functions on the respective columns, and print the results:"
      ],
      "metadata": {
        "id": "eSOpl-dUdvgJ"
      }
    },
    {
      "cell_type": "code",
      "source": [
        "# check SalesID column\n",
        "print('check SalesID column')\n",
        "print('====')\n",
        "print('Data format: ' + str(check_data_format(df, 'SalesID', 'N', [4])))\n",
        "print('Unique values: ' + str(check_unique_values(df, 'SalesID')))\n",
        "print('Is integer: ' + str(check_type(df, 'SalesID', int)))\n",
        "print('> 0: ' + str(check_within_numerical_range(df, 'SalesID', lower_bound = 0)))\n",
        "print('\\n')\n",
        "\n",
        "# check SalesDate column\n",
        "print('check SalesDate column')\n",
        "print('====')\n",
        "print('Data format: ' + str(check_data_format(df, 'SalesDate', 'X', [10])))\n",
        "print('Date format: ' + str(check_date_format_dmyyyy(df, 'SalesDate')))\n",
        "print('\\n')\n",
        "\n",
        "# check OrderID column\n",
        "print('check OrderID column')\n",
        "print('====')\n",
        "print('Data format: ' + str(check_data_format(df, 'OrderID', 'N', [5])))\n",
        "print('Is integer: ' + str(check_type(df, 'OrderID', int)))\n",
        "print('>0: ' + str(check_within_numerical_range(df, 'OrderID', lower_bound = 0)))\n",
        "print('\\n')\n",
        "\n",
        "# check CustomerID column\n",
        "print('check CustomerID column')\n",
        "print('====')\n",
        "print('Data format: ' + str(check_data_format(df, 'CustomerID', 'N', [3])))\n",
        "print('Is integer: ' + str(check_type(df, 'CustomerID', int)))\n",
        "print('> 0: ' + str(check_within_numerical_range(df, 'CustomerID', lower_bound = 0)))\n",
        "print('\\n')\n",
        "\n",
        "# check SalesPersonID column\n",
        "print('check SalesPersonID column')\n",
        "print('====')\n",
        "print('Data format: ' + str(check_data_format(df, 'SalesPersonID', 'N', [1])))\n",
        "print('Is integer: ' + str(check_type(df, 'SalesPersonID', int)))\n",
        "print('> 0: ' + str(check_within_numerical_range(df, 'SalesPersonID', lower_bound = 0)))\n",
        "print('\\n')\n",
        "\n",
        "# check ProductID column\n",
        "print('check ProductID column')\n",
        "print('====')\n",
        "print('Data format: ' + str(check_data_format(df, 'ProductID', 'N', [2])))\n",
        "print('Is integer: ' + str(check_type(df, 'ProductID', int)))\n",
        "print('> 0: ' + str(check_within_numerical_range(df, 'ProductID', lower_bound = 0)))\n",
        "print('\\n')\n",
        "\n",
        "# check Quantity column\n",
        "print('check Quantity column')\n",
        "print('====')\n",
        "print('Data format: ' + str(check_data_format(df, 'Quantity', 'N', [4])))\n",
        "print('Is integer: ' + str(check_type(df, 'Quantity', int)))\n",
        "print('> 0: ' + str(check_within_numerical_range(df, 'Quantity', lower_bound = 0)))\n",
        "print('\\n')\n",
        "\n",
        "# check Sales column\n",
        "print('check Sales column')\n",
        "print('====')\n",
        "print('Data format: ' + str(check_data_format(df, 'Sales', 'N', [10, 2])))\n",
        "print('Is float: ' + str(check_type(df, 'Sales', float)))\n",
        "print('>= 0: ' + str(check_within_numerical_range(df, 'Sales', lower_bound = -1)))\n",
        "print('\\n')\n",
        "\n",
        "# check StoreID column\n",
        "print('check StoreID column')\n",
        "print('====')\n",
        "print('Data format: ' + str(check_data_format(df, 'StoreID', 'N', [1])))\n",
        "print('\\n')\n",
        "\n",
        "# check OrderStatus column\n",
        "print('check OrderStatus column')\n",
        "print('====')\n",
        "print('Data format: ' + str(check_data_format(df, 'OrderStatus', 'A', [10])))\n",
        "print('\\n')"
      ],
      "metadata": {
        "id": "LrwFunV588ce"
      },
      "execution_count": null,
      "outputs": []
    },
    {
      "cell_type": "markdown",
      "source": [
        "Modify the function to also list the rows that do not comply with the specified validation rule:"
      ],
      "metadata": {
        "id": "htfBwuFSd4w-"
      }
    },
    {
      "cell_type": "code",
      "source": [
        "def numerical_range_identify_non_complying_rows (df, column_name, lower_bound = - math.inf, upper_bound = math.inf): # returns a list of row(s) that do not comply to numerical range rule\n",
        "  non_compliers = []\n",
        "  for index in range(1, l + 1):\n",
        "    value = df.loc[index][column_name]\n",
        "    if value >= upper_bound or value <= lower_bound: # note that here we are using numerical operators\n",
        "      non_compliers.append(df.loc[index])\n",
        "  return non_compliers"
      ],
      "metadata": {
        "id": "Xoe_Ik9CusJS"
      },
      "execution_count": null,
      "outputs": []
    },
    {
      "cell_type": "markdown",
      "source": [
        "*Define a helper function to print relevant rows neatly:*"
      ],
      "metadata": {
        "id": "1P4mR1M6edbI"
      }
    },
    {
      "cell_type": "code",
      "source": [
        "def pprint_row_list (lis):\n",
        "  for i in range(len(lis)):\n",
        "    print('Item number ' + str(i + 1))\n",
        "    print(lis[i])\n",
        "    print('\\n')"
      ],
      "metadata": {
        "id": "z-IAUIsCvQzo"
      },
      "execution_count": null,
      "outputs": []
    },
    {
      "cell_type": "code",
      "source": [
        "pprint_row_list(numerical_range_identify_non_complying_rows(df, 'ProductID', lower_bound = 0))"
      ],
      "metadata": {
        "id": "MmXKhE4Qutid"
      },
      "execution_count": null,
      "outputs": []
    },
    {
      "cell_type": "markdown",
      "source": [
        "Modify the rest of the relevant validation check functions to also return a list of non-complying rows:"
      ],
      "metadata": {
        "id": "qgY9lkSofNw5"
      }
    },
    {
      "cell_type": "code",
      "source": [
        "def date_format_identify_non_complying_rows (df, column_name): # returns a list of row(s) that do not comply to date format rule\n",
        "  non_compliers = []\n",
        "  for row_index in range(1, l + 1): # going through the df row by row this time\n",
        "    value_complies = True\n",
        "    value = df.loc[row_index][column_name]\n",
        "    value_split = value.split('/') # split each value into 3 parts to assess individually\n",
        "    if int(value_split[0]) < 0 or int(value_split[0]) > 31: # reject if date is not int or date < 0 or date > 31\n",
        "      value_complies = False\n",
        "    if int(value_split[1]) < 0 or int(value_split[1]) > 12: # reject if month is not int or month < 0 or month > 12\n",
        "      value_complies = False\n",
        "    if len(value_split[2]) != 4 or not is_intable(value_split[2]): # reject if year is not int or year is not 4 digits\n",
        "      value_complies = False\n",
        "    if value_complies == False:\n",
        "      non_compliers.append(df.loc[row_index])\n",
        "  return non_compliers\n",
        "\n",
        "def unique_values_identify_non_complying_rows (df, column_name): # returns a list of row(s) that do not comply to unique values rule\n",
        "  non_compliers = []\n",
        "  value_occurence_list = defaultdict(list) # defaultdict(list) defaults to an empty list ([]) for keys not yet added to the dictionary\n",
        "  for index in range(1,l + 1): # remember l is len(df)\n",
        "    value = df.loc[index][column_name]\n",
        "    value_occurence_list[value].append(index)\n",
        "  for value in value_occurence_list.keys():\n",
        "    if len(value_occurence_list[value]) > 1:\n",
        "      non_compliers = non_compliers + [df.loc[index] for index in value_occurence_list[value]]\n",
        "  return non_compliers\n",
        "\n",
        "def data_format_identify_non_complying_rows (df, column_name, character_type, pieces_max_lengths): # returns a list of row(s) that do not comply to data format rule\n",
        "  non_compliers = []\n",
        "  match character_type:\n",
        "    case 'N':\n",
        "      if len(pieces_max_lengths) == 2: # data format is N(p,q)\n",
        "        for index in range(1, l + 1):\n",
        "          val_str = str(df.loc[index][column_name])\n",
        "          val_str_pieces = val_str.split('.')\n",
        "          complies = is_intable(val_str_pieces[0]) and is_intable(val_str_pieces[1]) and len(val_str_pieces[0]) <= pieces_max_lengths[0] and len(val_str_pieces[1]) <= pieces_max_lengths[1]\n",
        "          if not complies:\n",
        "            non_compliers.append(df.loc[index])\n",
        "        return non_compliers\n",
        "      elif len(pieces_max_lengths) == 1: # data format is N(p)\n",
        "        for index in range(1, l + 1):\n",
        "          value = df.loc[index][column_name]\n",
        "          complies = is_intable(value) and len(str(value)) <= pieces_max_lengths[0]\n",
        "          if not complies:\n",
        "            non_compliers.append(df.loc[index])\n",
        "        return non_compliers\n",
        "    case 'A': # data format is A(p)\n",
        "      for index in range(1, l + 1):\n",
        "          value = df.loc[index][column_name]\n",
        "          complies = is_alphabetical(value) and len(value) <= pieces_max_lengths[0]\n",
        "          if not complies:\n",
        "            non_compliers.append(df.loc[index])\n",
        "      return non_compliers\n",
        "    case 'X': # data format is X(p)\n",
        "      for index in range(1, l + 1):\n",
        "          value = df.loc[index][column_name]\n",
        "          complies = len(value) <= pieces_max_lengths[0]\n",
        "          if not complies:\n",
        "            non_compliers.append(df.loc[index])\n",
        "      return non_compliers"
      ],
      "metadata": {
        "id": "CORtHJ79kVVl"
      },
      "execution_count": null,
      "outputs": []
    },
    {
      "cell_type": "markdown",
      "source": [
        "Run the newly-modified functions on the rows to find the culprit rows:"
      ],
      "metadata": {
        "id": "yJ2J7JzBfcVV"
      }
    },
    {
      "cell_type": "code",
      "source": [
        "print('Check SalesId column - non-unique values:')\n",
        "pprint_row_list(unique_values_identify_non_complying_rows(df, 'SalesID'))\n",
        "print('\\n')\n",
        "\n",
        "print('Check SalesDate column - date format:')\n",
        "pprint_row_list(date_format_identify_non_complying_rows(df, 'SalesDate'))\n",
        "print('\\n')\n",
        "\n",
        "print('Check ProductID column - data format:')\n",
        "pprint_row_list(data_format_identify_non_complying_rows(df, 'ProductID', 'N', [2]))\n",
        "print('\\n')\n",
        "\n",
        "print('Check Sales column - data format:')\n",
        "pprint_row_list(data_format_identify_non_complying_rows(df, 'Sales', 'N', [10,2]))\n",
        "print('\\n')"
      ],
      "metadata": {
        "id": "d2sotBosuMvh"
      },
      "execution_count": null,
      "outputs": []
    },
    {
      "cell_type": "markdown",
      "source": [
        "Modify the functions again to provide a percentage of all rows that do not comply with the relevant data validation rule:"
      ],
      "metadata": {
        "id": "R4e0QySufogY"
      }
    },
    {
      "cell_type": "code",
      "source": [
        "# returns the percentage of row(s) that do not comply to numerical range rule\n",
        "def numerical_range_percentage_non_compliance (df, column_name, lower_bound = - math.inf, upper_bound = math.inf):\n",
        "  return len(numerical_range_identify_non_complying_rows(df, column_name, lower_bound, upper_bound)) / l * 100"
      ],
      "metadata": {
        "id": "HSAuYRzDHLeW"
      },
      "execution_count": null,
      "outputs": []
    },
    {
      "cell_type": "code",
      "source": [
        "numerical_range_percentage_non_compliance(df, 'ProductID', lower_bound = 0)"
      ],
      "metadata": {
        "id": "0LwQXOr5HzWr"
      },
      "execution_count": null,
      "outputs": []
    },
    {
      "cell_type": "markdown",
      "source": [
        "New function to check that all values in the column 'StoreID' fall contain only the permitted values (1 - 9) - generated by ChatGPT!"
      ],
      "metadata": {
        "id": "OSlJoWuVfz3w"
      }
    },
    {
      "cell_type": "code",
      "source": [
        "def check_store_id_quality(df):\n",
        "    # Define the permitted values\n",
        "    permitted_values = {1, 2, 3, 4, 5, 6, 7, 8, 9}\n",
        "\n",
        "    # Filter rows where 'StoreID' is not in the permitted values\n",
        "    invalid_rows = df[~df['StoreID'].isin(permitted_values)]\n",
        "\n",
        "    # Return the invalid rows as a list of dictionaries\n",
        "    return invalid_rows.to_dict(orient='records')"
      ],
      "metadata": {
        "id": "5Sjic_v_KeXh"
      },
      "execution_count": null,
      "outputs": []
    },
    {
      "cell_type": "code",
      "source": [
        "check_store_id_quality(df)"
      ],
      "metadata": {
        "id": "jXv-4O5hKgLA"
      },
      "execution_count": null,
      "outputs": []
    }
  ]
}